{
 "cells": [
  {
   "cell_type": "code",
   "execution_count": 1,
   "metadata": {},
   "outputs": [],
   "source": [
    "import sys\n",
    "import os\n",
    "sys.path.insert(0, \"../../\")\n",
    "\n",
    "import numpy as np\n",
    "import pandas as pd\n",
    "import random\n",
    "from multiprocessing import Pool\n",
    "from tqdm import tqdm\n",
    "from concurrent.futures import ProcessPoolExecutor\n",
    "from time import time\n",
    "\n",
    "from algorithms.epsnet import *\n",
    "from algorithms.hittingset import *\n",
    "from algorithms.fairness.fair_epsnet import *\n",
    "from algorithms.fairness.fair_hittingset import *\n",
    "from core.fairness import *\n",
    "from core.ranges import get_range_space, BallRange\n",
    "from core.points import Point\n",
    "\n",
    "np.random.seed(42)\n",
    "random.seed(42)"
   ]
  },
  {
   "cell_type": "markdown",
   "metadata": {},
   "source": [
    "Load popsim dataset:"
   ]
  },
  {
   "cell_type": "code",
   "execution_count": 2,
   "metadata": {},
   "outputs": [],
   "source": [
    "# Read the content of the file\n",
    "with open(\"input_database.txt\", \"r\") as file:\n",
    "    data = file.read()"
   ]
  },
  {
   "cell_type": "code",
   "execution_count": 3,
   "metadata": {},
   "outputs": [
    {
     "data": {
      "text/plain": [
       "16384"
      ]
     },
     "execution_count": 3,
     "metadata": {},
     "output_type": "execute_result"
    }
   ],
   "source": [
    "# Initialize variables\n",
    "color = None\n",
    "points = []\n",
    "\n",
    "# Process each line in the data\n",
    "for line in data.splitlines():\n",
    "    line = line.strip()\n",
    "    if line.isdigit():  # If the line is a number, it's a color\n",
    "        color = int(line)\n",
    "    elif line.startswith(\"(\") and line.endswith(\")\"):  # If the line is a pair (lat, long)\n",
    "        lat, long = map(float, line.strip(\"()\").split(\", \"))\n",
    "        points.append(Point(point=(lat, long), color=color - 1))\n",
    "del data\n",
    "points = [p for p in points if p.color != -1]\n",
    "points = random.sample(points, 2**14)\n",
    "len(points)"
   ]
  },
  {
   "cell_type": "code",
   "execution_count": 4,
   "metadata": {},
   "outputs": [
    {
     "name": "stdout",
     "output_type": "stream",
     "text": [
      "16384 2048\n"
     ]
    }
   ],
   "source": [
    "n = len(points)\n",
    "n = 2**(int(math.log(n, 2)))\n",
    "m = 2048\n",
    "vc = 3 # balls in plane\n",
    "k = 4\n",
    "\n",
    "print(n, m)"
   ]
  },
  {
   "cell_type": "code",
   "execution_count": 5,
   "metadata": {},
   "outputs": [],
   "source": [
    "def get_range_space(points: List[Point], ranges: List[Range]) -> List[Set[Point]]:\n",
    "    \"\"\"\n",
    "    Keeps track of points contained in each range.\n",
    "    \"\"\"\n",
    "    rangespace = []\n",
    "    for r in tqdm(ranges):\n",
    "        subset = [p for p in points if r.contains(p)]\n",
    "        rangespace.append(set(subset))\n",
    "    return rangespace"
   ]
  },
  {
   "cell_type": "code",
   "execution_count": 6,
   "metadata": {},
   "outputs": [
    {
     "name": "stdout",
     "output_type": "stream",
     "text": [
      "Creating ranges...\n",
      "Creating rangespace...\n"
     ]
    },
    {
     "name": "stderr",
     "output_type": "stream",
     "text": [
      "100%|██████████| 2048/2048 [00:36<00:00, 55.52it/s]"
     ]
    },
    {
     "name": "stdout",
     "output_type": "stream",
     "text": [
      "16384 2048\n"
     ]
    },
    {
     "name": "stderr",
     "output_type": "stream",
     "text": [
      "\n"
     ]
    }
   ],
   "source": [
    "# Define the radius\n",
    "radius = 20000\n",
    "\n",
    "centers = random.sample(points, m)\n",
    "\n",
    "print(\"Creating ranges...\")\n",
    "ranges = [BallRange(center=center, radius=radius) for center in centers]\n",
    "\n",
    "print(\"Creating rangespace...\")\n",
    "rangespace = get_range_space(points=points, ranges=ranges)\n",
    "\n",
    "print(n, m)"
   ]
  },
  {
   "cell_type": "code",
   "execution_count": 7,
   "metadata": {},
   "outputs": [
    {
     "name": "stdout",
     "output_type": "stream",
     "text": [
      "eps: 0, heavy ranges: 2048\n",
      "eps: 0.2, heavy ranges: 1307\n",
      "eps: 0.4, heavy ranges: 1277\n",
      "eps: 0.63, heavy ranges: 912\n",
      "eps: 0.65, heavy ranges: 335\n",
      "eps: 0.66, heavy ranges: 128\n"
     ]
    }
   ],
   "source": [
    "epss = [0, 0.2, 0.4, 0.63, 0.65, 0.66]\n",
    "\n",
    "for eps in epss:\n",
    "    tmp = [r for r in rangespace if len(r) > eps * n]\n",
    "    print(f\"eps: {eps}, heavy ranges: {len(tmp)}\")"
   ]
  },
  {
   "cell_type": "code",
   "execution_count": 8,
   "metadata": {},
   "outputs": [
    {
     "name": "stdout",
     "output_type": "stream",
     "text": [
      "Color: 0: 138\n",
      "Color: 1: 1123\n",
      "Color: 2: 2813\n",
      "Color: 3: 12310\n"
     ]
    }
   ],
   "source": [
    "ratios = []\n",
    "for color in range(k):\n",
    "    ratios.append(\n",
    "        len([p for p in points if p.color == color]) / n\n",
    "    )\n",
    "    print(f\"Color: {color}: {len([p for p in points if p.color == color])}\")\n",
    "ratios = [rate / sum(ratios) for rate in ratios]"
   ]
  },
  {
   "cell_type": "code",
   "execution_count": 9,
   "metadata": {},
   "outputs": [],
   "source": [
    "def l2_norm(vector1, vector2):\n",
    "    \"\"\"\n",
    "    Compute the L2 norm (Euclidean distance) between two vectors.\n",
    "    \"\"\"\n",
    "    return np.sqrt(np.sum((np.array(vector1) - np.array(vector2))**2))\n",
    "\n",
    "def linf_norm(vector1, vector2):\n",
    "    \"\"\"\n",
    "    Compute the L∞ norm (maximum absolute difference) between two vectors.\n",
    "    \"\"\"\n",
    "    return np.max(np.abs(np.array(vector1) - np.array(vector2)))"
   ]
  },
  {
   "cell_type": "markdown",
   "metadata": {},
   "source": [
    "## Fair and Standard EpsNet"
   ]
  },
  {
   "cell_type": "code",
   "execution_count": 10,
   "metadata": {},
   "outputs": [],
   "source": [
    "def get_fairness_l2(subset, points):\n",
    "    \"\"\"\n",
    "    Compute the fairness of a subset of points.\n",
    "    \"\"\"\n",
    "    sub_ratios = []\n",
    "    for color in range(k):\n",
    "        sub_ratios.append(\n",
    "            len([p for p in subset if p.color == color]) / len(subset)\n",
    "        )\n",
    "    ratios = []\n",
    "    for color in range(k):\n",
    "        ratios.append(\n",
    "            len([p for p in points if p.color == color]) / n\n",
    "        )\n",
    "    return l2_norm(sub_ratios, ratios)\n",
    "\n",
    "def get_fairness_linf(subset, points):\n",
    "    \"\"\"\n",
    "    Compute the fairness of a subset of points.\n",
    "    \"\"\"\n",
    "    sub_ratios = []\n",
    "    for color in range(k):\n",
    "        sub_ratios.append(\n",
    "            len([p for p in subset if p.color == color]) / len(subset)\n",
    "        )\n",
    "    ratios = []\n",
    "    for color in range(k):\n",
    "        ratios.append(\n",
    "            len([p for p in points if p.color == color]) / n\n",
    "        )\n",
    "    return linf_norm(sub_ratios, ratios)"
   ]
  },
  {
   "cell_type": "code",
   "execution_count": 11,
   "metadata": {},
   "outputs": [
    {
     "name": "stdout",
     "output_type": "stream",
     "text": [
      "[build_epsnet_sample] epsnet size m: 759\n",
      "[build_fair_epsnet_sample] epsnet size m: 759, v: 1.5\n",
      "[_augment_epsnet] epsnet colors count:\n",
      "\t[_augment_epsnet] Color 0: 9\n",
      "\t[_augment_epsnet] Color 1: 47\n",
      "\t[_augment_epsnet] Color 2: 124\n",
      "\t[_augment_epsnet] Color 3: 579\n",
      "[_augment_epsnet] Color 0 to add: 0\n",
      "[_augment_epsnet] Color 1 to add: 31\n",
      "[_augment_epsnet] Color 2 to add: 71\n",
      "[_augment_epsnet] Color 3 to add: 276\n",
      "[_augment_epsnet] epsnet colors count after augmentation:\n",
      "\t[_augment_epsnet] Color 0: 9\n",
      "\t[_augment_epsnet] Color 1: 78\n",
      "\t[_augment_epsnet] Color 2: 195\n",
      "\t[_augment_epsnet] Color 3: 855\n",
      "[build_epsnet_sample] epsnet size m: 320\n",
      "[build_fair_epsnet_sample] epsnet size m: 320, v: 1.5\n",
      "[build_fair_epsnet_sample] Bad epsnet, resampling...\n",
      "[_augment_epsnet] epsnet colors count:\n",
      "\t[_augment_epsnet] Color 0: 2\n",
      "\t[_augment_epsnet] Color 1: 19\n",
      "\t[_augment_epsnet] Color 2: 65\n",
      "\t[_augment_epsnet] Color 3: 234\n",
      "[_augment_epsnet] Color 0 to add: 2\n",
      "[_augment_epsnet] Color 1 to add: 13\n",
      "[_augment_epsnet] Color 2 to add: 17\n",
      "[_augment_epsnet] Color 3 to add: 126\n",
      "[_augment_epsnet] epsnet colors count after augmentation:\n",
      "\t[_augment_epsnet] Color 0: 4\n",
      "\t[_augment_epsnet] Color 1: 32\n",
      "\t[_augment_epsnet] Color 2: 82\n",
      "\t[_augment_epsnet] Color 3: 360\n",
      "[build_epsnet_sample] epsnet size m: 178\n",
      "[build_fair_epsnet_sample] epsnet size m: 178, v: 1.5\n",
      "[_augment_epsnet] epsnet colors count:\n",
      "\t[_augment_epsnet] Color 0: 0\n",
      "\t[_augment_epsnet] Color 1: 13\n",
      "\t[_augment_epsnet] Color 2: 24\n",
      "\t[_augment_epsnet] Color 3: 141\n",
      "[_augment_epsnet] Color 0 to add: 2\n",
      "[_augment_epsnet] Color 1 to add: 5\n",
      "[_augment_epsnet] Color 2 to add: 21\n",
      "[_augment_epsnet] Color 3 to add: 59\n",
      "[_augment_epsnet] epsnet colors count after augmentation:\n",
      "\t[_augment_epsnet] Color 0: 2\n",
      "\t[_augment_epsnet] Color 1: 18\n",
      "\t[_augment_epsnet] Color 2: 45\n",
      "\t[_augment_epsnet] Color 3: 200\n",
      "[build_epsnet_sample] epsnet size m: 171\n",
      "[build_fair_epsnet_sample] epsnet size m: 171, v: 1.5\n",
      "[build_fair_epsnet_sample] Bad epsnet, resampling...\n",
      "[_augment_epsnet] epsnet colors count:\n",
      "\t[_augment_epsnet] Color 0: 0\n",
      "\t[_augment_epsnet] Color 1: 12\n",
      "\t[_augment_epsnet] Color 2: 24\n",
      "\t[_augment_epsnet] Color 3: 135\n",
      "[_augment_epsnet] Color 0 to add: 2\n",
      "[_augment_epsnet] Color 1 to add: 5\n",
      "[_augment_epsnet] Color 2 to add: 20\n",
      "[_augment_epsnet] Color 3 to add: 57\n",
      "[_augment_epsnet] epsnet colors count after augmentation:\n",
      "\t[_augment_epsnet] Color 0: 2\n",
      "\t[_augment_epsnet] Color 1: 17\n",
      "\t[_augment_epsnet] Color 2: 44\n",
      "\t[_augment_epsnet] Color 3: 192\n",
      "[build_epsnet_sample] epsnet size m: 168\n",
      "[build_fair_epsnet_sample] epsnet size m: 168, v: 1.5\n",
      "[_augment_epsnet] epsnet colors count:\n",
      "\t[_augment_epsnet] Color 0: 1\n",
      "\t[_augment_epsnet] Color 1: 17\n",
      "\t[_augment_epsnet] Color 2: 20\n",
      "\t[_augment_epsnet] Color 3: 130\n",
      "[_augment_epsnet] Color 0 to add: 1\n",
      "[_augment_epsnet] Color 1 to add: 0\n",
      "[_augment_epsnet] Color 2 to add: 23\n",
      "[_augment_epsnet] Color 3 to add: 59\n",
      "[_augment_epsnet] epsnet colors count after augmentation:\n",
      "\t[_augment_epsnet] Color 0: 2\n",
      "\t[_augment_epsnet] Color 1: 17\n",
      "\t[_augment_epsnet] Color 2: 43\n",
      "\t[_augment_epsnet] Color 3: 189\n"
     ]
    }
   ],
   "source": [
    "result = {\n",
    "    \"eps\": [],\n",
    "    \"epsnet_size\": [],\n",
    "    \"fair_epsnet_size\": [],\n",
    "    \"epsnet_fairness_l2\": [],\n",
    "    \"fair_epsnet_fairness_l2\": [],\n",
    "    \"epsnet_fairness_linf\": [],\n",
    "    \"fair_epsnet_fairness_linf\": [],\n",
    "    \"unfair_time\": [],\n",
    "    \"fair_time\": []\n",
    "}\n",
    "\n",
    "for eps in epss[1:]:\n",
    "    start = time()\n",
    "    epsnet = build_epsnet_sample(\n",
    "        points=points, \n",
    "        rangespace=rangespace,\n",
    "        vc=vc,\n",
    "        epsilon=eps,\n",
    "        success_prob=0.9,\n",
    "        weights=None,\n",
    "        c1=1\n",
    "    )\n",
    "    middle = time()\n",
    "    epsnet_time = middle - start\n",
    "    fair_epsnet = build_fair_epsnet_sample(\n",
    "        points=points,\n",
    "        rangespace=rangespace,\n",
    "        vc=vc,\n",
    "        epsilon=eps,\n",
    "        success_prob=0.9,\n",
    "        weights=None,\n",
    "        c1=1/2,\n",
    "        c2=1,\n",
    "        color_ratios=ratios,\n",
    "        fairconfig=FairConfig(\n",
    "            k=k,\n",
    "            fairness=FairnessMeasure.DP\n",
    "        )\n",
    "    )\n",
    "    fair_epsnet_time = time() - middle\n",
    "    \n",
    "    len_epsnet = len(epsnet)\n",
    "    len_fair_epsnet = len(fair_epsnet)\n",
    "    len_points = len(points)\n",
    "    \n",
    "    fairness_epsnet_l2 = get_fairness_l2(epsnet, points)\n",
    "    fairness_epsnet_linf = get_fairness_linf(epsnet, points)\n",
    "    fairness_fair_epsnet_l2 = get_fairness_l2(fair_epsnet, points)\n",
    "    fairness_fair_epsnet_linf = get_fairness_linf(fair_epsnet, points)\n",
    "    \n",
    "    result[\"eps\"].append(eps)\n",
    "    result[\"epsnet_size\"].append(len_epsnet)\n",
    "    result[\"fair_epsnet_size\"].append(len_fair_epsnet)\n",
    "    result[\"epsnet_fairness_l2\"].append(fairness_epsnet_l2)\n",
    "    result[\"fair_epsnet_fairness_l2\"].append(fairness_fair_epsnet_l2)\n",
    "    result[\"epsnet_fairness_linf\"].append(fairness_epsnet_linf)\n",
    "    result[\"fair_epsnet_fairness_linf\"].append(fairness_fair_epsnet_linf)\n",
    "    result[\"unfair_time\"].append(epsnet_time)\n",
    "    result[\"fair_time\"].append(fair_epsnet_time)\n",
    "    \n",
    "result = pd.DataFrame(result)"
   ]
  },
  {
   "cell_type": "code",
   "execution_count": null,
   "metadata": {},
   "outputs": [],
   "source": [
    "# result.to_csv(\"epsnet_popsim.csv\", index=False)"
   ]
  },
  {
   "cell_type": "code",
   "execution_count": 13,
   "metadata": {},
   "outputs": [
    {
     "name": "stdout",
     "output_type": "stream",
     "text": [
      "0.0084228515625\n",
      "0.06854248046875\n",
      "0.17169189453125\n",
      "0.7513427734375\n"
     ]
    }
   ],
   "source": [
    "for color in range(k):\n",
    "    print(\n",
    "        len([p for p in points if p.color == color]) / len(points)\n",
    "    )"
   ]
  },
  {
   "cell_type": "code",
   "execution_count": 14,
   "metadata": {},
   "outputs": [
    {
     "data": {
      "image/png": "[encoded data removed]",
      "text/plain": [
       "<Figure size 1000x600 with 1 Axes>"
      ]
     },
     "metadata": {},
     "output_type": "display_data"
    }
   ],
   "source": [
    "import matplotlib.pyplot as plt\n",
    "\n",
    "# Labels and epsilon values\n",
    "eps_labels = [\"$\\epsilon$ = 0.2\", \"$\\epsilon$ = 0.4\", \"$\\epsilon$ = 0.63\", \"$\\epsilon$ = 0.65\", \"$\\epsilon$ = 0.66\"]\n",
    "\n",
    "# Example data — replace with your actual results\n",
    "epsnet_fairness = result[\"epsnet_fairness_linf\"]\n",
    "fair_epsnet_fairness = result[\"fair_epsnet_fairness_linf\"]\n",
    "\n",
    "plt.figure(figsize=(10, 6))\n",
    "\n",
    "# Plot the two lines\n",
    "plt.plot(eps_labels, epsnet_fairness, label=\"EpsNet Fairness $L_\\infty$\", color=\"blue\", marker=\"o\")\n",
    "plt.plot(eps_labels, fair_epsnet_fairness, label=\"Fair EpsNet Fairness $L_\\infty$\", color=\"orange\", marker=\"s\")\n",
    "\n",
    "# Annotate vertical improvements\n",
    "for i, label in enumerate(eps_labels):\n",
    "    y1 = epsnet_fairness[i]\n",
    "    y2 = fair_epsnet_fairness[i]\n",
    "\n",
    "    # Add vertical line\n",
    "    plt.plot([label, label], [y1, y2], color=\"gray\", linestyle=\"--\")\n",
    "\n",
    "    # Add annotation for improvement\n",
    "    improvement = y1 / y2\n",
    "    y_mid = (y1 + y2) / 2\n",
    "    plt.text(i, y_mid, f\"$\\\\times${improvement:.2f}\", ha='center', va='bottom', fontsize=10, color=\"black\", weight=\"bold\")\n",
    "\n",
    "# Labels and formatting\n",
    "plt.xlabel(\"Epsilon (ε)\")\n",
    "plt.ylabel(\"Fairness $L_\\infty$\")\n",
    "plt.title(\"Fairness $L_\\infty$ vs Epsilon\")\n",
    "plt.legend()\n",
    "plt.grid(True)\n",
    "plt.tight_layout()\n",
    "plt.show()\n"
   ]
  },
  {
   "cell_type": "code",
   "execution_count": 15,
   "metadata": {},
   "outputs": [
    {
     "data": {
      "text/html": [
       "<div>\n",
       "<style scoped>\n",
       "    .dataframe tbody tr th:only-of-type {\n",
       "        vertical-align: middle;\n",
       "    }\n",
       "\n",
       "    .dataframe tbody tr th {\n",
       "        vertical-align: top;\n",
       "    }\n",
       "\n",
       "    .dataframe thead th {\n",
       "        text-align: right;\n",
       "    }\n",
       "</style>\n",
       "<table border=\"1\" class=\"dataframe\">\n",
       "  <thead>\n",
       "    <tr style=\"text-align: right;\">\n",
       "      <th></th>\n",
       "      <th>Epsilon (ε)</th>\n",
       "      <th>EpsNet Fairness $L_\\infty$</th>\n",
       "      <th>Fair EpsNet Fairness $L_\\infty$</th>\n",
       "      <th>Improvement (×)</th>\n",
       "    </tr>\n",
       "  </thead>\n",
       "  <tbody>\n",
       "    <tr>\n",
       "      <th>0</th>\n",
       "      <td>$\\epsilon$ = 0.2</td>\n",
       "      <td>0.014907</td>\n",
       "      <td>0.000636</td>\n",
       "      <td>23.433768</td>\n",
       "    </tr>\n",
       "    <tr>\n",
       "      <th>1</th>\n",
       "      <td>$\\epsilon$ = 0.4</td>\n",
       "      <td>0.014282</td>\n",
       "      <td>0.001795</td>\n",
       "      <td>7.955334</td>\n",
       "    </tr>\n",
       "    <tr>\n",
       "      <th>2</th>\n",
       "      <td>$\\epsilon$ = 0.63</td>\n",
       "      <td>0.040792</td>\n",
       "      <td>0.003374</td>\n",
       "      <td>12.089374</td>\n",
       "    </tr>\n",
       "    <tr>\n",
       "      <th>3</th>\n",
       "      <td>$\\epsilon$ = 0.65</td>\n",
       "      <td>0.013329</td>\n",
       "      <td>0.001876</td>\n",
       "      <td>7.105644</td>\n",
       "    </tr>\n",
       "    <tr>\n",
       "      <th>4</th>\n",
       "      <td>$\\epsilon$ = 0.66</td>\n",
       "      <td>0.009019</td>\n",
       "      <td>0.001645</td>\n",
       "      <td>5.481560</td>\n",
       "    </tr>\n",
       "  </tbody>\n",
       "</table>\n",
       "</div>"
      ],
      "text/plain": [
       "         Epsilon (ε)  EpsNet Fairness $L_\\infty$  \\\n",
       "0   $\\epsilon$ = 0.2                    0.014907   \n",
       "1   $\\epsilon$ = 0.4                    0.014282   \n",
       "2  $\\epsilon$ = 0.63                    0.040792   \n",
       "3  $\\epsilon$ = 0.65                    0.013329   \n",
       "4  $\\epsilon$ = 0.66                    0.009019   \n",
       "\n",
       "   Fair EpsNet Fairness $L_\\infty$  Improvement (×)  \n",
       "0                         0.000636        23.433768  \n",
       "1                         0.001795         7.955334  \n",
       "2                         0.003374        12.089374  \n",
       "3                         0.001876         7.105644  \n",
       "4                         0.001645         5.481560  "
      ]
     },
     "execution_count": 15,
     "metadata": {},
     "output_type": "execute_result"
    }
   ],
   "source": [
    "import pandas as pd\n",
    "\n",
    "# Create a DataFrame for the table\n",
    "table_data = {\n",
    "    \"Epsilon (ε)\": eps_labels,\n",
    "    \"EpsNet Fairness $L_\\infty$\": epsnet_fairness,\n",
    "    \"Fair EpsNet Fairness $L_\\infty$\": fair_epsnet_fairness,\n",
    "    \"Improvement (×)\": [y1 / y2 for y1, y2 in zip(epsnet_fairness, fair_epsnet_fairness)]\n",
    "}\n",
    "\n",
    "fairness_table = pd.DataFrame(table_data)\n",
    "\n",
    "# Display the table\n",
    "fairness_table\n"
   ]
  },
  {
   "cell_type": "code",
   "execution_count": 16,
   "metadata": {},
   "outputs": [
    {
     "data": {
      "image/png": "[encoded data removed]",
      "text/plain": [
       "<Figure size 1000x600 with 1 Axes>"
      ]
     },
     "metadata": {},
     "output_type": "display_data"
    }
   ],
   "source": [
    "import matplotlib.pyplot as plt\n",
    "\n",
    "eps_labels = [\"$\\epsilon$ = 0.2\", \"$\\epsilon$ = 0.4\", \"$\\epsilon$ = 0.63\", \"$\\epsilon$ = 0.65\", \"$\\epsilon$ = 0.66\"]\n",
    "\n",
    "epsnet_size = result[\"epsnet_size\"]\n",
    "fair_epsnet_size = result[\"fair_epsnet_size\"]\n",
    "\n",
    "plt.figure(figsize=(10, 6))\n",
    "\n",
    "# Plot the two lines\n",
    "plt.plot(eps_labels, epsnet_size, label=\"EpsNet Size\", color=\"blue\", marker=\"o\")\n",
    "plt.plot(eps_labels, fair_epsnet_size, label=\"Fair EpsNet Size\", color=\"orange\", marker=\"s\")\n",
    "\n",
    "# Add vertical lines and ratio annotations\n",
    "for i, label in enumerate(eps_labels):\n",
    "    y1 = epsnet_size[i]\n",
    "    y2 = fair_epsnet_size[i]\n",
    "\n",
    "    # Vertical line between epsnet and fair_epsnet\n",
    "    plt.plot([label, label], [y1, y2], color=\"gray\", linestyle=\"--\")\n",
    "\n",
    "    # Ratio annotation\n",
    "    if y1 != 0:\n",
    "        ratio = y2 / y1\n",
    "        y_mid = (y1 + y2) / 2\n",
    "        plt.text(i, y_mid, f\"$\\\\times${ratio:.2f}\", ha='center', va='bottom', fontsize=10, weight=\"bold\", color=\"black\")\n",
    "\n",
    "plt.xlabel(\"Epsilon (ε)\")\n",
    "plt.ylabel(\"Size\")\n",
    "plt.title(\"Size of EpsNet and Fair EpsNet vs Epsilon\")\n",
    "plt.legend()\n",
    "plt.grid(True)\n",
    "plt.tight_layout()\n",
    "plt.show()\n"
   ]
  },
  {
   "cell_type": "code",
   "execution_count": 17,
   "metadata": {},
   "outputs": [
    {
     "name": "stdout",
     "output_type": "stream",
     "text": [
      "Times:\n"
     ]
    },
    {
     "data": {
      "text/plain": [
       "(np.float64(0.00017189979553222656), np.float64(0.008990049362182617))"
      ]
     },
     "execution_count": 17,
     "metadata": {},
     "output_type": "execute_result"
    }
   ],
   "source": [
    "print(\"Times:\")\n",
    "result[\"unfair_time\"].mean(), result[\"fair_time\"].mean()\n"
   ]
  },
  {
   "cell_type": "code",
   "execution_count": 22,
   "metadata": {},
   "outputs": [
    {
     "name": "stdout",
     "output_type": "stream",
     "text": [
      "iterations: 1 / 10\n",
      "Finding hittingset...\n",
      "[find_hitting_set_geometric] epsilon: 0.12500000000000003\n",
      "[build_epsnet_sample] epsnet size m: 336\n",
      "[find_hitting_set_geometric] epsnet size: 336\n",
      "Finding fair hittingset...\n",
      "[find_hitting_set_geometric] epsilon: 0.12499999999999994\n",
      "[find_hitting_set_geometric] weights by color: [np.float64(0.0084228515625), np.float64(0.06854248046875), np.float64(0.1716918945312509), np.float64(0.7513427734375003)]\n",
      "[build_fair_epsnet_sample] epsnet size m: 337, v: 1.5\n",
      "[_augment_epsnet] epsnet colors count:\n",
      "\t[_augment_epsnet] Color 0: 2\n",
      "\t[_augment_epsnet] Color 1: 24\n",
      "\t[_augment_epsnet] Color 2: 60\n",
      "\t[_augment_epsnet] Color 3: 251\n",
      "[_augment_epsnet] Color 0 to add: 2\n",
      "[_augment_epsnet] Color 1 to add: 10\n",
      "[_augment_epsnet] Color 2 to add: 26\n",
      "[_augment_epsnet] Color 3 to add: 128\n",
      "[_augment_epsnet] epsnet colors count after augmentation:\n",
      "\t[_augment_epsnet] Color 0: 4\n",
      "\t[_augment_epsnet] Color 1: 34\n",
      "\t[_augment_epsnet] Color 2: 86\n",
      "\t[_augment_epsnet] Color 3: 379\n",
      "[find_fair_hitting_set_geometric] epsnet size: 503\n",
      "iterations: 2 / 10\n",
      "Finding hittingset...\n",
      "[find_hitting_set_geometric] epsilon: 0.12500000000000003\n",
      "[build_epsnet_sample] epsnet size m: 336\n",
      "[find_hitting_set_geometric] epsnet size: 336\n",
      "Finding fair hittingset...\n",
      "[find_hitting_set_geometric] epsilon: 0.12499999999999994\n",
      "[find_hitting_set_geometric] weights by color: [np.float64(0.0084228515625), np.float64(0.06854248046875), np.float64(0.1716918945312509), np.float64(0.7513427734375003)]\n",
      "[build_fair_epsnet_sample] epsnet size m: 337, v: 1.5\n",
      "[_augment_epsnet] epsnet colors count:\n",
      "\t[_augment_epsnet] Color 0: 3\n",
      "\t[_augment_epsnet] Color 1: 21\n",
      "\t[_augment_epsnet] Color 2: 62\n",
      "\t[_augment_epsnet] Color 3: 251\n",
      "[_augment_epsnet] Color 0 to add: 1\n",
      "[_augment_epsnet] Color 1 to add: 13\n",
      "[_augment_epsnet] Color 2 to add: 24\n",
      "[_augment_epsnet] Color 3 to add: 128\n",
      "[_augment_epsnet] epsnet colors count after augmentation:\n",
      "\t[_augment_epsnet] Color 0: 4\n",
      "\t[_augment_epsnet] Color 1: 34\n",
      "\t[_augment_epsnet] Color 2: 86\n",
      "\t[_augment_epsnet] Color 3: 379\n",
      "[find_fair_hitting_set_geometric] epsnet size: 503\n",
      "iterations: 3 / 10\n",
      "Finding hittingset...\n",
      "[find_hitting_set_geometric] epsilon: 0.12500000000000003\n",
      "[build_epsnet_sample] epsnet size m: 336\n",
      "[find_hitting_set_geometric] epsnet size: 336\n",
      "Finding fair hittingset...\n",
      "[find_hitting_set_geometric] epsilon: 0.12499999999999994\n",
      "[find_hitting_set_geometric] weights by color: [np.float64(0.0084228515625), np.float64(0.06854248046875), np.float64(0.1716918945312509), np.float64(0.7513427734375003)]\n",
      "[build_fair_epsnet_sample] epsnet size m: 337, v: 1.5\n",
      "[_augment_epsnet] epsnet colors count:\n",
      "\t[_augment_epsnet] Color 0: 2\n",
      "\t[_augment_epsnet] Color 1: 18\n",
      "\t[_augment_epsnet] Color 2: 57\n",
      "\t[_augment_epsnet] Color 3: 260\n",
      "[_augment_epsnet] Color 0 to add: 2\n",
      "[_augment_epsnet] Color 1 to add: 16\n",
      "[_augment_epsnet] Color 2 to add: 29\n",
      "[_augment_epsnet] Color 3 to add: 119\n",
      "[_augment_epsnet] epsnet colors count after augmentation:\n",
      "\t[_augment_epsnet] Color 0: 4\n",
      "\t[_augment_epsnet] Color 1: 34\n",
      "\t[_augment_epsnet] Color 2: 86\n",
      "\t[_augment_epsnet] Color 3: 379\n",
      "[find_fair_hitting_set_geometric] epsnet size: 503\n",
      "iterations: 4 / 10\n",
      "Finding hittingset...\n",
      "[find_hitting_set_geometric] epsilon: 0.12500000000000003\n",
      "[build_epsnet_sample] epsnet size m: 336\n",
      "[find_hitting_set_geometric] epsnet size: 336\n",
      "Finding fair hittingset...\n",
      "[find_hitting_set_geometric] epsilon: 0.12499999999999994\n",
      "[find_hitting_set_geometric] weights by color: [np.float64(0.0084228515625), np.float64(0.06854248046875), np.float64(0.1716918945312509), np.float64(0.7513427734375003)]\n",
      "[build_fair_epsnet_sample] epsnet size m: 337, v: 1.5\n",
      "[_augment_epsnet] epsnet colors count:\n",
      "\t[_augment_epsnet] Color 0: 0\n",
      "\t[_augment_epsnet] Color 1: 21\n",
      "\t[_augment_epsnet] Color 2: 65\n",
      "\t[_augment_epsnet] Color 3: 251\n",
      "[_augment_epsnet] Color 0 to add: 4\n",
      "[_augment_epsnet] Color 1 to add: 13\n",
      "[_augment_epsnet] Color 2 to add: 21\n",
      "[_augment_epsnet] Color 3 to add: 128\n",
      "[_augment_epsnet] epsnet colors count after augmentation:\n",
      "\t[_augment_epsnet] Color 0: 4\n",
      "\t[_augment_epsnet] Color 1: 34\n",
      "\t[_augment_epsnet] Color 2: 86\n",
      "\t[_augment_epsnet] Color 3: 379\n",
      "[find_fair_hitting_set_geometric] epsnet size: 503\n",
      "iterations: 5 / 10\n",
      "Finding hittingset...\n",
      "[find_hitting_set_geometric] epsilon: 0.12500000000000003\n",
      "[build_epsnet_sample] epsnet size m: 336\n",
      "[find_hitting_set_geometric] epsnet size: 336\n",
      "Finding fair hittingset...\n",
      "[find_hitting_set_geometric] epsilon: 0.12499999999999994\n",
      "[find_hitting_set_geometric] weights by color: [np.float64(0.0084228515625), np.float64(0.06854248046875), np.float64(0.1716918945312509), np.float64(0.7513427734375003)]\n",
      "[build_fair_epsnet_sample] epsnet size m: 337, v: 1.5\n",
      "[_augment_epsnet] epsnet colors count:\n",
      "\t[_augment_epsnet] Color 0: 2\n",
      "\t[_augment_epsnet] Color 1: 30\n",
      "\t[_augment_epsnet] Color 2: 65\n",
      "\t[_augment_epsnet] Color 3: 240\n",
      "[_augment_epsnet] Color 0 to add: 2\n",
      "[_augment_epsnet] Color 1 to add: 4\n",
      "[_augment_epsnet] Color 2 to add: 21\n",
      "[_augment_epsnet] Color 3 to add: 139\n",
      "[_augment_epsnet] epsnet colors count after augmentation:\n",
      "\t[_augment_epsnet] Color 0: 4\n",
      "\t[_augment_epsnet] Color 1: 34\n",
      "\t[_augment_epsnet] Color 2: 86\n",
      "\t[_augment_epsnet] Color 3: 379\n",
      "[find_fair_hitting_set_geometric] epsnet size: 503\n"
     ]
    }
   ],
   "source": [
    "result = {\n",
    "    \"hittingset_size\": [],\n",
    "    \"fair_hittingset_size\": [],\n",
    "    \"hittingset_fairness_l2\": [],\n",
    "    \"fair_hittingset_fairness_l2\": [],\n",
    "    \"hittingset_fairness_linf\": [],\n",
    "    \"fair_hittingset_fairness_linf\": [],\n",
    "    \"unfair_time\": [],\n",
    "    \"fair_time\": []\n",
    "}\n",
    "\n",
    "for i in range(5): # 10 iterations\n",
    "    print(f\"iterations: {i + 1} / {5}\")\n",
    "    start = time()\n",
    "    print(\"Finding hittingset...\")\n",
    "    hittingset = find_hitting_set_geometric(\n",
    "        points = points,\n",
    "        rangespace=rangespace,\n",
    "        vc=vc\n",
    "    )\n",
    "    middle = time()\n",
    "    hittingset_time = middle - start\n",
    "    print(\"Finding fair hittingset...\")\n",
    "    fair_hittingset = find_fair_hitting_set_geometric(\n",
    "        points = points,\n",
    "        rangespace=rangespace,\n",
    "        vc=vc,\n",
    "        fairconfig=FairConfig(\n",
    "            k=k,\n",
    "            fairness=FairnessMeasure.DP\n",
    "        ),\n",
    "        c1=1/2,\n",
    "    )\n",
    "    fair_hittingset_time = time() - middle\n",
    "    \n",
    "    len_hittingset = len(hittingset)\n",
    "    len_fair_hittingset = len(fair_hittingset)\n",
    "    len_points = len(points)\n",
    "    \n",
    "    fairness_hittingset_l2 = get_fairness_l2(hittingset, points)\n",
    "    fairness_hittingset_linf = get_fairness_linf(hittingset, points)\n",
    "    fairness_fair_hittingset_l2 = get_fairness_l2(fair_hittingset, points)\n",
    "    fairness_fair_hittingset_linf = get_fairness_linf(fair_hittingset, points)\n",
    "    \n",
    "    result[\"hittingset_size\"].append(len_hittingset)\n",
    "    result[\"fair_hittingset_size\"].append(len_fair_hittingset)\n",
    "    result[\"hittingset_fairness_l2\"].append(fairness_hittingset_l2)\n",
    "    result[\"fair_hittingset_fairness_l2\"].append(fairness_fair_hittingset_l2)\n",
    "    result[\"hittingset_fairness_linf\"].append(fairness_hittingset_linf)\n",
    "    result[\"fair_hittingset_fairness_linf\"].append(fairness_fair_hittingset_linf)\n",
    "    result[\"unfair_time\"].append(epsnet_time)\n",
    "    result[\"fair_time\"].append(fair_epsnet_time)\n",
    "    \n",
    "result = pd.DataFrame(result)"
   ]
  },
  {
   "cell_type": "code",
   "execution_count": null,
   "metadata": {},
   "outputs": [],
   "source": [
    "# result.to_csv(\"hittingset_popsim.csv\", index=False)"
   ]
  },
  {
   "cell_type": "code",
   "execution_count": 25,
   "metadata": {},
   "outputs": [
    {
     "data": {
      "text/html": [
       "<div>\n",
       "<style scoped>\n",
       "    .dataframe tbody tr th:only-of-type {\n",
       "        vertical-align: middle;\n",
       "    }\n",
       "\n",
       "    .dataframe tbody tr th {\n",
       "        vertical-align: top;\n",
       "    }\n",
       "\n",
       "    .dataframe thead th {\n",
       "        text-align: right;\n",
       "    }\n",
       "</style>\n",
       "<table border=\"1\" class=\"dataframe\">\n",
       "  <thead>\n",
       "    <tr style=\"text-align: right;\">\n",
       "      <th></th>\n",
       "      <th>Epsilon (ε)</th>\n",
       "      <th>HittingSet Fairness $L_\\infty$</th>\n",
       "      <th>Fair HittinSet Fairness $L_\\infty$</th>\n",
       "      <th>Improvement (×)</th>\n",
       "    </tr>\n",
       "  </thead>\n",
       "  <tbody>\n",
       "    <tr>\n",
       "      <th>0</th>\n",
       "      <td>0</td>\n",
       "      <td>0.093895</td>\n",
       "      <td>0.002136</td>\n",
       "      <td>43.951245</td>\n",
       "    </tr>\n",
       "  </tbody>\n",
       "</table>\n",
       "</div>"
      ],
      "text/plain": [
       "   Epsilon (ε)  HittingSet Fairness $L_\\infty$  \\\n",
       "0            0                        0.093895   \n",
       "\n",
       "   Fair HittinSet Fairness $L_\\infty$  Improvement (×)  \n",
       "0                            0.002136        43.951245  "
      ]
     },
     "execution_count": 25,
     "metadata": {},
     "output_type": "execute_result"
    }
   ],
   "source": [
    "# Create a DataFrame for the table\n",
    "table_data = {\n",
    "    \"Epsilon (ε)\": [0],\n",
    "    \"HittingSet Fairness $L_\\infty$\": [result[\"hittingset_fairness_linf\"].mean()],\n",
    "    \"Fair HittinSet Fairness $L_\\infty$\": [result[\"fair_hittingset_fairness_linf\"].mean()],\n",
    "    \"Improvement (×)\": [result[\"hittingset_fairness_linf\"].mean() / result[\"fair_hittingset_fairness_linf\"].mean()]\n",
    "}\n",
    "\n",
    "fairness_table = pd.DataFrame(table_data)\n",
    "\n",
    "# Display the table\n",
    "fairness_table"
   ]
  },
  {
   "cell_type": "code",
   "execution_count": 27,
   "metadata": {},
   "outputs": [
    {
     "data": {
      "text/html": [
       "<div>\n",
       "<style scoped>\n",
       "    .dataframe tbody tr th:only-of-type {\n",
       "        vertical-align: middle;\n",
       "    }\n",
       "\n",
       "    .dataframe tbody tr th {\n",
       "        vertical-align: top;\n",
       "    }\n",
       "\n",
       "    .dataframe thead th {\n",
       "        text-align: right;\n",
       "    }\n",
       "</style>\n",
       "<table border=\"1\" class=\"dataframe\">\n",
       "  <thead>\n",
       "    <tr style=\"text-align: right;\">\n",
       "      <th></th>\n",
       "      <th>Epsilon (ε)</th>\n",
       "      <th>HittingSet Size</th>\n",
       "      <th>Fair HittinSet size</th>\n",
       "      <th>Rate (×)</th>\n",
       "    </tr>\n",
       "  </thead>\n",
       "  <tbody>\n",
       "    <tr>\n",
       "      <th>0</th>\n",
       "      <td>0</td>\n",
       "      <td>336.0</td>\n",
       "      <td>503.0</td>\n",
       "      <td>1.497024</td>\n",
       "    </tr>\n",
       "  </tbody>\n",
       "</table>\n",
       "</div>"
      ],
      "text/plain": [
       "   Epsilon (ε)  HittingSet Size  Fair HittinSet size  Rate (×)\n",
       "0            0            336.0                503.0  1.497024"
      ]
     },
     "execution_count": 27,
     "metadata": {},
     "output_type": "execute_result"
    }
   ],
   "source": [
    "# Create a DataFrame for the table\n",
    "table_data = {\n",
    "    \"Epsilon (ε)\": [0],\n",
    "    \"HittingSet Size\": [result[\"hittingset_size\"].mean()],\n",
    "    \"Fair HittinSet size\": [result[\"fair_hittingset_size\"].mean()],\n",
    "    \"Rate (×)\": [result[\"fair_hittingset_size\"].mean() / result[\"hittingset_size\"].mean()]\n",
    "}\n",
    "\n",
    "fairness_table = pd.DataFrame(table_data)\n",
    "\n",
    "# Display the table\n",
    "fairness_table"
   ]
  },
  {
   "cell_type": "code",
   "execution_count": 29,
   "metadata": {},
   "outputs": [
    {
     "data": {
      "text/html": [
       "<div>\n",
       "<style scoped>\n",
       "    .dataframe tbody tr th:only-of-type {\n",
       "        vertical-align: middle;\n",
       "    }\n",
       "\n",
       "    .dataframe tbody tr th {\n",
       "        vertical-align: top;\n",
       "    }\n",
       "\n",
       "    .dataframe thead th {\n",
       "        text-align: right;\n",
       "    }\n",
       "</style>\n",
       "<table border=\"1\" class=\"dataframe\">\n",
       "  <thead>\n",
       "    <tr style=\"text-align: right;\">\n",
       "      <th></th>\n",
       "      <th>Epsilon (ε)</th>\n",
       "      <th>HittingSet Time</th>\n",
       "      <th>Fair HittinSet Time</th>\n",
       "    </tr>\n",
       "  </thead>\n",
       "  <tbody>\n",
       "    <tr>\n",
       "      <th>0</th>\n",
       "      <td>0</td>\n",
       "      <td>0.000108</td>\n",
       "      <td>0.006431</td>\n",
       "    </tr>\n",
       "  </tbody>\n",
       "</table>\n",
       "</div>"
      ],
      "text/plain": [
       "   Epsilon (ε)  HittingSet Time  Fair HittinSet Time\n",
       "0            0         0.000108             0.006431"
      ]
     },
     "execution_count": 29,
     "metadata": {},
     "output_type": "execute_result"
    }
   ],
   "source": [
    "# Create a DataFrame for the table\n",
    "table_data = {\n",
    "    \"Epsilon (ε)\": [0],\n",
    "    \"HittingSet Time\": [result[\"unfair_time\"].mean()],\n",
    "    \"Fair HittinSet Time\": [result[\"fair_time\"].mean()],\n",
    "    # \"Improvement (×)\": [result[\"hittingset_fairness_linf\"].mean() / result[\"fair_hittingset_fairness_linf\"].mean()]\n",
    "}\n",
    "\n",
    "fairness_table = pd.DataFrame(table_data)\n",
    "\n",
    "# Display the table\n",
    "fairness_table"
   ]
  }
 ],
 "metadata": {
  "kernelspec": {
   "display_name": "venv",
   "language": "python",
   "name": "python3"
  },
  "language_info": {
   "codemirror_mode": {
    "name": "ipython",
    "version": 3
   },
   "file_extension": ".py",
   "mimetype": "text/x-python",
   "name": "python",
   "nbconvert_exporter": "python",
   "pygments_lexer": "ipython3",
   "version": "3.9.21"
  }
 },
 "nbformat": 4,
 "nbformat_minor": 2
}
